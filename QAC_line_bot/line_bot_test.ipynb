{
 "cells": [
  {
   "cell_type": "code",
   "execution_count": 1,
   "metadata": {},
   "outputs": [],
   "source": [
    "import json\n",
    "import pandas as pd\n",
    "import numpy as np\n"
   ]
  },
  {
   "cell_type": "code",
   "execution_count": 3,
   "metadata": {},
   "outputs": [],
   "source": [
    "a = '{\"type\": \"bubble\", \\\n",
    "        \"body\": {\"type\": \"box\", \"layout\": \"vertical\", \"contents\": \\\n",
    "            [{\"type\": \"text\", \"text\": \"選擇部門\", \"weight\": \"bold\", \"size\": \"xl\"}]}, \\\n",
    "              \\\n",
    "          \"footer\": {\"type\": \"box\", \"layout\": \"vertical\", \"spacing\": \"sm\", \"contents\": \\\n",
    "              [{\"type\": \"button\", \"style\": \"link\", \"height\": \"sm\", \"action\": \\\n",
    "                  { \"type\": \"message\", \"label\": \"📗14天再住院\", \"text\": \"查詢14天再住院\"} \\\n",
    "                }, \\\n",
    "                {\"type\": \"button\", \"style\": \"link\", \"height\": \"sm\", \"action\": \\\n",
    "                  {\"type\": \"message\", \"label\": \"📗三日內重返急診\", \"text\": \"查詢三日內重返急診\"} \\\n",
    "                } \\\n",
    "              ], \\\n",
    "          \"flex\": 0} \\\n",
    "      }'"
   ]
  },
  {
   "cell_type": "code",
   "execution_count": 4,
   "metadata": {},
   "outputs": [
    {
     "name": "stdout",
     "output_type": "stream",
     "text": [
      "{'type': 'bubble', 'body': {'type': 'box', 'layout': 'vertical', 'contents': [{'type': 'text', 'text': '選擇部門', 'weight': 'bold', 'size': 'xl'}]}, 'footer': {'type': 'box', 'layout': 'vertical', 'spacing': 'sm', 'contents': [{'type': 'button', 'style': 'link', 'height': 'sm', 'action': {'type': 'message', 'label': '📗14天再住院', 'text': '查詢14天再住院'}}, {'type': 'button', 'style': 'link', 'height': 'sm', 'action': {'type': 'message', 'label': '📗三日內重返急診', 'text': '查詢三日內重返急診'}}], 'flex': 0}}\n"
     ]
    }
   ],
   "source": [
    "b = json.loads(a)\n",
    "print (b)"
   ]
  },
  {
   "cell_type": "code",
   "execution_count": 5,
   "metadata": {},
   "outputs": [],
   "source": [
    "department_gropu = {'type': 'bubble', \n",
    "                    'body': {'type': 'box', 'layout': 'vertical', 'contents':[{'type': 'text', 'text': '選擇部門', 'weight': 'bold', 'size': 'xl'}]}, \n",
    "                    'footer': {'type': 'box', 'layout': 'vertical', 'spacing': 'sm', 'contents':[{'type': 'button', 'style': 'link', 'height': 'sm', 'action': \n",
    "                                {'type': 'message', 'label': '📗14天再住院', 'text': '查詢14天再住院'}}, \n",
    "                            {'type': 'button', 'style': 'link', 'height': 'sm', 'action': \n",
    "                                {'type': 'message', 'label': '📗三日內重返急診', 'text': '查詢三日內重返急診'}}], \n",
    "                    'flex': 0}\n",
    "                    }"
   ]
  },
  {
   "cell_type": "code",
   "execution_count": 6,
   "metadata": {},
   "outputs": [
    {
     "name": "stdout",
     "output_type": "stream",
     "text": [
      "type  ,  bubble\n",
      "body  ,  {'type': 'box', 'layout': 'vertical', 'contents': [{'type': 'text', 'text': '選擇部門', 'weight': 'bold', 'size': 'xl'}]}\n",
      "footer  ,  {'type': 'box', 'layout': 'vertical', 'spacing': 'sm', 'contents': [{'type': 'button', 'style': 'link', 'height': 'sm', 'action': {'type': 'message', 'label': '📗14天再住院', 'text': '查詢14天再住院'}}, {'type': 'button', 'style': 'link', 'height': 'sm', 'action': {'type': 'message', 'label': '📗三日內重返急診', 'text': '查詢三日內重返急診'}}], 'flex': 0}\n"
     ]
    }
   ],
   "source": [
    "for key, value in department_gropu.items():\n",
    "    print (key, ' , ', value)"
   ]
  },
  {
   "cell_type": "markdown",
   "metadata": {},
   "source": [
    "# 1. flex message bubble → code產生json格式檔案 (部科清單)"
   ]
  },
  {
   "cell_type": "code",
   "execution_count": 30,
   "metadata": {},
   "outputs": [
    {
     "name": "stdout",
     "output_type": "stream",
     "text": [
      "5\n"
     ]
    }
   ],
   "source": [
    "df = pd.read_csv(\"E:/qm_dashboard/sas/sas_smart_hospital_management/data_transformer/preset/section_definition.csv\")\n",
    "print (len(df['group'].unique()))\n",
    "\n",
    "department_group = {}\n",
    "footer = {}\n",
    "footer_content = []\n",
    "footer_contents = {}\n",
    "\n",
    "\n",
    "for items in np.append(df['group'].unique(),'回到主選單'):\n",
    "    action_dic = {}\n",
    "    footer_contents = {}\n",
    "   \n",
    "    action_dic['type'] = 'postback'\n",
    "    action_dic['label'] = str(items)\n",
    "    if items == '回到主選單':\n",
    "        action_dic['data'] = 'main'\n",
    "    else :\n",
    "        action_dic['data'] = 'select_' + str(items)\n",
    "    # action_dic['displayText'] = '查詢' + str(items)\n",
    "    \n",
    "    footer_contents['type'] = 'button'\n",
    "    footer_contents['style'] = 'link'\n",
    "    footer_contents['height'] = 'sm'\n",
    "    footer_contents['action'] =  action_dic\n",
    "    \n",
    "    footer_content.append(footer_contents)\n",
    "    \n",
    "footer['type'] = 'box'\n",
    "footer['layout'] = 'vertical'\n",
    "footer['spacing'] = 'sm'\n",
    "footer['contents'] = footer_content\n",
    "footer['flex'] = 0\n",
    "\n",
    "department_group['type'] = 'bubble'\n",
    "department_group['body'] = {'type': 'box', 'layout': 'vertical', 'contents': [{'type': 'text', 'text': '選擇部門', 'weight': 'bold', 'size': 'xl'}]}\n",
    "department_group['footer'] = footer\n",
    "\n",
    "jsonfile_department_group = json.dumps(department_group, ensure_ascii=False)#.encode('utf8')\n",
    "\n",
    "f = open('./flex_messenge/bubble_select_department.json', 'w', encoding='utf-8')\n",
    "f.write(jsonfile_department_group)\n",
    "f.close()\n"
   ]
  },
  {
   "cell_type": "code",
   "execution_count": 57,
   "metadata": {},
   "outputs": [
    {
     "data": {
      "text/plain": [
       "array(['內科系', '外科系', '婦兒科', '五官及其它', '急重及家醫'], dtype=object)"
      ]
     },
     "execution_count": 57,
     "metadata": {},
     "output_type": "execute_result"
    }
   ],
   "source": [
    "df = pd.read_csv(\"E:/qm_dashboard/sas/sas_smart_hospital_management/data_transformer/preset/section_definition.csv\")\n",
    "df['group'].unique()"
   ]
  },
  {
   "cell_type": "code",
   "execution_count": 38,
   "metadata": {},
   "outputs": [
    {
     "data": {
      "text/plain": [
       "75     家庭醫學部\n",
       "76     家庭醫學部\n",
       "77    高齡醫學中心\n",
       "81       NaN\n",
       "82       NaN\n",
       "83       NaN\n",
       "84       NaN\n",
       "89       NaN\n",
       "90       NaN\n",
       "91       NaN\n",
       "Name: sas_section_text, dtype: object"
      ]
     },
     "execution_count": 38,
     "metadata": {},
     "output_type": "execute_result"
    }
   ],
   "source": [
    "df = pd.read_csv(\"E:/qm_dashboard/sas/sas_smart_hospital_management/data_transformer/preset/section_definition.csv\")\n",
    "df[df['group'] == '急重及家醫']['sas_section_text']"
   ]
  },
  {
   "cell_type": "code",
   "execution_count": 113,
   "metadata": {},
   "outputs": [],
   "source": [
    "path ='record_select.txt'\n",
    "f=open(path,'r')\n",
    "s = f.read()\n",
    "s\n",
    "f.close()"
   ]
  },
  {
   "cell_type": "code",
   "execution_count": 114,
   "metadata": {},
   "outputs": [
    {
     "name": "stdout",
     "output_type": "stream",
     "text": [
      "\"confirm\",select\n",
      "\"user_section\",\"indecator\"\n",
      "\"ppp\",\"ddd\"\n"
     ]
    },
    {
     "data": {
      "text/html": [
       "<div>\n",
       "<style scoped>\n",
       "    .dataframe tbody tr th:only-of-type {\n",
       "        vertical-align: middle;\n",
       "    }\n",
       "\n",
       "    .dataframe tbody tr th {\n",
       "        vertical-align: top;\n",
       "    }\n",
       "\n",
       "    .dataframe thead th {\n",
       "        text-align: right;\n",
       "    }\n",
       "</style>\n",
       "<table border=\"1\" class=\"dataframe\">\n",
       "  <thead>\n",
       "    <tr style=\"text-align: right;\">\n",
       "      <th></th>\n",
       "      <th>confirm</th>\n",
       "      <th>select</th>\n",
       "    </tr>\n",
       "  </thead>\n",
       "  <tbody>\n",
       "    <tr>\n",
       "      <th>0</th>\n",
       "      <td>user_section</td>\n",
       "      <td>indecator</td>\n",
       "    </tr>\n",
       "    <tr>\n",
       "      <th>1</th>\n",
       "      <td>ppp</td>\n",
       "      <td>ddd</td>\n",
       "    </tr>\n",
       "  </tbody>\n",
       "</table>\n",
       "</div>"
      ],
      "text/plain": [
       "        confirm     select\n",
       "0  user_section  indecator\n",
       "1           ppp        ddd"
      ]
     },
     "execution_count": 114,
     "metadata": {},
     "output_type": "execute_result"
    }
   ],
   "source": [
    "print (s) # = '{confirm:user_section,select:indecator},{confirm:user_section,select:indecator}'\n",
    "\n",
    "pd.read_csv(path)"
   ]
  },
  {
   "cell_type": "code",
   "execution_count": 108,
   "metadata": {},
   "outputs": [
    {
     "data": {
      "text/plain": [
       "dict"
      ]
     },
     "execution_count": 108,
     "metadata": {},
     "output_type": "execute_result"
    }
   ],
   "source": [
    "# a = json.loads(s)\n",
    "type(a)"
   ]
  },
  {
   "cell_type": "code",
   "execution_count": 147,
   "metadata": {},
   "outputs": [],
   "source": [
    "jj = json.load(open(f'flex_messenge/bubble_main.json','r',encoding='utf-8'))\n",
    "for i in range(len(jj['footer']['contents'])):\n",
    "    l = jj['footer']['contents'][i]['action']\n",
    "    l.update(data='pp')\n"
   ]
  },
  {
   "cell_type": "code",
   "execution_count": 44,
   "metadata": {},
   "outputs": [],
   "source": [
    "data = json.load(open(f'flex_messenge/bubble_select_confirm.json','r',encoding='utf-8'))\n",
    "date = json.load(open(f'flex_messenge/bubble_select_start_date.json','r',encoding='utf-8'))"
   ]
  },
  {
   "cell_type": "code",
   "execution_count": 45,
   "metadata": {},
   "outputs": [],
   "source": [
    "date['footer']['contents'][0]['action'].update(data = 'XXXXX')"
   ]
  },
  {
   "cell_type": "code",
   "execution_count": 43,
   "metadata": {},
   "outputs": [
    {
     "data": {
      "text/plain": [
       "{'type': 'bubble',\n",
       " 'body': {'type': 'box',\n",
       "  'layout': 'vertical',\n",
       "  'contents': [{'type': 'text',\n",
       "    'text': '選擇開始日期',\n",
       "    'weight': 'bold',\n",
       "    'size': 'xl'}]},\n",
       " 'footer': {'type': 'box',\n",
       "  'layout': 'vertical',\n",
       "  'spacing': 'sm',\n",
       "  'contents': [{'type': 'button',\n",
       "    'style': 'link',\n",
       "    'height': 'sm',\n",
       "    'action': {'type': 'datetimepicker',\n",
       "     'label': '選擇開始日期',\n",
       "     'data': 'XXXXX',\n",
       "     'mode': 'date',\n",
       "     'initial': '2020-01-01',\n",
       "     'max': '2022-03-17',\n",
       "     'min': '2020-01-01'}},\n",
       "   {'type': 'button',\n",
       "    'style': 'link',\n",
       "    'height': 'sm',\n",
       "    'action': {'type': 'postback',\n",
       "     'label': '回到主選單',\n",
       "     'data': 'main',\n",
       "     'text': '重新選擇'}}],\n",
       "  'flex': 0}}"
      ]
     },
     "execution_count": 43,
     "metadata": {},
     "output_type": "execute_result"
    }
   ],
   "source": [
    "date"
   ]
  },
  {
   "cell_type": "code",
   "execution_count": 6,
   "metadata": {},
   "outputs": [
    {
     "data": {
      "text/html": [
       "<div>\n",
       "<style scoped>\n",
       "    .dataframe tbody tr th:only-of-type {\n",
       "        vertical-align: middle;\n",
       "    }\n",
       "\n",
       "    .dataframe tbody tr th {\n",
       "        vertical-align: top;\n",
       "    }\n",
       "\n",
       "    .dataframe thead th {\n",
       "        text-align: right;\n",
       "    }\n",
       "</style>\n",
       "<table border=\"1\" class=\"dataframe\">\n",
       "  <thead>\n",
       "    <tr style=\"text-align: right;\">\n",
       "      <th></th>\n",
       "      <th>0</th>\n",
       "    </tr>\n",
       "  </thead>\n",
       "  <tbody>\n",
       "    <tr>\n",
       "      <th>0</th>\n",
       "      <td>單位|我的單位</td>\n",
       "    </tr>\n",
       "    <tr>\n",
       "      <th>1</th>\n",
       "      <td>指標|3日重返急診</td>\n",
       "    </tr>\n",
       "    <tr>\n",
       "      <th>2</th>\n",
       "      <td>止日|2020-01-01</td>\n",
       "    </tr>\n",
       "    <tr>\n",
       "      <th>3</th>\n",
       "      <td>起日|2020-01-01</td>\n",
       "    </tr>\n",
       "  </tbody>\n",
       "</table>\n",
       "</div>"
      ],
      "text/plain": [
       "               0\n",
       "0        單位|我的單位\n",
       "1      指標|3日重返急診\n",
       "2  止日|2020-01-01\n",
       "3  起日|2020-01-01"
      ]
     },
     "execution_count": 6,
     "metadata": {},
     "output_type": "execute_result"
    }
   ],
   "source": [
    "a = '單位|我的單位,指標|3日重返急診,起日|2020-01-01,止日|2020-01-01'\n",
    "aa = []\n",
    "for i in a.split(','):\n",
    "    aa.append(i)\n",
    "aa\n",
    "\n",
    "d = np.unique(aa)\n",
    "pd.DataFrame(d)"
   ]
  },
  {
   "cell_type": "code",
   "execution_count": 85,
   "metadata": {},
   "outputs": [
    {
     "name": "stdout",
     "output_type": "stream",
     "text": [
      "我的單位\n",
      "3日重返急診\n",
      "2020-01-01\n",
      "2020-01-01\n"
     ]
    }
   ],
   "source": [
    "items=[]\n",
    "for i in aa:\n",
    "    # print(i.split('|'))\n",
    "    for x in i.split('|'):\n",
    "        pass\n",
    "    print (x)"
   ]
  },
  {
   "cell_type": "code",
   "execution_count": 10,
   "metadata": {},
   "outputs": [
    {
     "data": {
      "text/plain": [
       "[['單位', '我的單位'],\n",
       " ['指標', '3日重返急診'],\n",
       " ['起日', '2020-01-01'],\n",
       " ['止日', '2020-01-01'],\n",
       " ['單位', '我的']]"
      ]
     },
     "execution_count": 10,
     "metadata": {},
     "output_type": "execute_result"
    }
   ],
   "source": [
    "a = '單位|我的單位,指標|3日重返急診,起日|2020-01-01,止日|2020-01-01,單位|我的'\n",
    "aa = []\n",
    "\n",
    "for i in a.split(','):\n",
    "    bb = []\n",
    "    for j in i.split('|'):\n",
    "        bb.append(j)\n",
    "    aa.append(bb)\n",
    "aa\n",
    "    "
   ]
  },
  {
   "cell_type": "code",
   "execution_count": 33,
   "metadata": {},
   "outputs": [
    {
     "data": {
      "text/html": [
       "<div>\n",
       "<style scoped>\n",
       "    .dataframe tbody tr th:only-of-type {\n",
       "        vertical-align: middle;\n",
       "    }\n",
       "\n",
       "    .dataframe tbody tr th {\n",
       "        vertical-align: top;\n",
       "    }\n",
       "\n",
       "    .dataframe thead th {\n",
       "        text-align: right;\n",
       "    }\n",
       "</style>\n",
       "<table border=\"1\" class=\"dataframe\">\n",
       "  <thead>\n",
       "    <tr style=\"text-align: right;\">\n",
       "      <th></th>\n",
       "      <th>1</th>\n",
       "    </tr>\n",
       "    <tr>\n",
       "      <th>0</th>\n",
       "      <th></th>\n",
       "    </tr>\n",
       "  </thead>\n",
       "  <tbody>\n",
       "    <tr>\n",
       "      <th>單位</th>\n",
       "      <td>我的單位</td>\n",
       "    </tr>\n",
       "    <tr>\n",
       "      <th>指標</th>\n",
       "      <td>3日重返急診</td>\n",
       "    </tr>\n",
       "    <tr>\n",
       "      <th>起日</th>\n",
       "      <td>2020-01-01</td>\n",
       "    </tr>\n",
       "    <tr>\n",
       "      <th>止日</th>\n",
       "      <td>2020-01-01</td>\n",
       "    </tr>\n",
       "  </tbody>\n",
       "</table>\n",
       "</div>"
      ],
      "text/plain": [
       "             1\n",
       "0             \n",
       "單位        我的單位\n",
       "指標      3日重返急診\n",
       "起日  2020-01-01\n",
       "止日  2020-01-01"
      ]
     },
     "execution_count": 33,
     "metadata": {},
     "output_type": "execute_result"
    }
   ],
   "source": [
    "df = pd.DataFrame(aa).set_index(0)\n",
    "df = df[~df.index.duplicated(keep='first')]\n",
    "# df[~df.index.duplicates(keep='first')]\n",
    "df\n"
   ]
  },
  {
   "cell_type": "code",
   "execution_count": 37,
   "metadata": {},
   "outputs": [
    {
     "data": {
      "text/plain": [
       "'我的單位'"
      ]
     },
     "execution_count": 37,
     "metadata": {},
     "output_type": "execute_result"
    }
   ],
   "source": [
    "df.loc['單位'].values[0]"
   ]
  },
  {
   "cell_type": "code",
   "execution_count": 55,
   "metadata": {},
   "outputs": [
    {
     "data": {
      "text/plain": [
       "'01'"
      ]
     },
     "execution_count": 55,
     "metadata": {},
     "output_type": "execute_result"
    }
   ],
   "source": [
    "from datetime import datetime\n",
    "a = datetime.strptime('2022-01-03','%Y-%m-%d')\n",
    "\n",
    "a.strftime(\"%m\")"
   ]
  },
  {
   "cell_type": "code",
   "execution_count": 56,
   "metadata": {},
   "outputs": [
    {
     "data": {
      "text/plain": [
       "datetime.datetime(2022, 1, 3, 0, 0)"
      ]
     },
     "execution_count": 56,
     "metadata": {},
     "output_type": "execute_result"
    }
   ],
   "source": [
    "a"
   ]
  },
  {
   "cell_type": "code",
   "execution_count": null,
   "metadata": {},
   "outputs": [],
   "source": []
  }
 ],
 "metadata": {
  "interpreter": {
   "hash": "263930470851f494f0ed2879c35b57985588df20f9e529b86e97dd5eb9ddc466"
  },
  "kernelspec": {
   "display_name": "Python 3.9.7 ('base')",
   "language": "python",
   "name": "python3"
  },
  "language_info": {
   "codemirror_mode": {
    "name": "ipython",
    "version": 3
   },
   "file_extension": ".py",
   "mimetype": "text/x-python",
   "name": "python",
   "nbconvert_exporter": "python",
   "pygments_lexer": "ipython3",
   "version": "3.9.7"
  },
  "orig_nbformat": 4
 },
 "nbformat": 4,
 "nbformat_minor": 2
}
